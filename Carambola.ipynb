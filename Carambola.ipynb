{
 "cells": [
  {
   "cell_type": "code",
   "execution_count": 1,
   "metadata": {},
   "outputs": [],
   "source": [
    "#from __future__ import print_function\n",
    "from pandas import DataFrame\n",
    "import pandas as pd\n",
    "import numpy as np\n",
    "import plotly.express as px\n",
    "import plotly.graph_objects as go\n",
    "import ipywidgets as widgets\n",
    "from ipywidgets import interact, interactive, fixed, interact_manual\n",
    "\n"
   ]
  },
  {
   "cell_type": "code",
   "execution_count": 60,
   "metadata": {},
   "outputs": [],
   "source": [
    "main_df= pd.read_excel('./data/matches.xlsx',header=0,index_col='ID',engine='openpyxl')"
   ]
  },
  {
   "cell_type": "code",
   "execution_count": 65,
   "metadata": {},
   "outputs": [],
   "source": [
    "df1=main_df.loc[((main_df['Player1']=='Fulvio') & (main_df['Pl1-score']==21 )) | ((main_df['Player2']=='Fulvio') & (main_df['Pl2-score']==21 ))]"
   ]
  },
  {
   "cell_type": "code",
   "execution_count": 66,
   "metadata": {},
   "outputs": [],
   "source": [
    "def show_win_result(player,df):\n",
    "    df1=df.loc[((df['Player1']==player) & (df['Pl1-score']==21 )) | ((df['Player2']==player) & (df['Pl2-score']==21 ))]\n",
    "    return df1[['Player1','Pl1-score','Pl2-score','Player2']]\n",
    "\n",
    "def show_result(player,df):\n",
    "    df1=df.loc[(df['Player1']==player)  | (df['Player2']==player)]\n",
    "    return df1[['Player1','Pl1-score','Pl2-score','Player2']]"
   ]
  },
  {
   "cell_type": "code",
   "execution_count": 67,
   "metadata": {},
   "outputs": [
    {
     "data": {
      "text/html": [
       "<div>\n",
       "<style scoped>\n",
       "    .dataframe tbody tr th:only-of-type {\n",
       "        vertical-align: middle;\n",
       "    }\n",
       "\n",
       "    .dataframe tbody tr th {\n",
       "        vertical-align: top;\n",
       "    }\n",
       "\n",
       "    .dataframe thead th {\n",
       "        text-align: right;\n",
       "    }\n",
       "</style>\n",
       "<table border=\"1\" class=\"dataframe\">\n",
       "  <thead>\n",
       "    <tr style=\"text-align: right;\">\n",
       "      <th></th>\n",
       "      <th>Player1</th>\n",
       "      <th>Pl1-score</th>\n",
       "      <th>Pl2-score</th>\n",
       "      <th>Player2</th>\n",
       "    </tr>\n",
       "    <tr>\n",
       "      <th>ID</th>\n",
       "      <th></th>\n",
       "      <th></th>\n",
       "      <th></th>\n",
       "      <th></th>\n",
       "    </tr>\n",
       "  </thead>\n",
       "  <tbody>\n",
       "    <tr>\n",
       "      <th>1</th>\n",
       "      <td>Fulvio</td>\n",
       "      <td>10</td>\n",
       "      <td>21</td>\n",
       "      <td>Clod</td>\n",
       "    </tr>\n",
       "    <tr>\n",
       "      <th>2</th>\n",
       "      <td>Fulvio</td>\n",
       "      <td>7</td>\n",
       "      <td>23</td>\n",
       "      <td>Clod</td>\n",
       "    </tr>\n",
       "    <tr>\n",
       "      <th>3</th>\n",
       "      <td>Fulvio</td>\n",
       "      <td>28</td>\n",
       "      <td>19</td>\n",
       "      <td>Clod</td>\n",
       "    </tr>\n",
       "    <tr>\n",
       "      <th>4</th>\n",
       "      <td>Fulvio</td>\n",
       "      <td>18</td>\n",
       "      <td>22</td>\n",
       "      <td>Clod</td>\n",
       "    </tr>\n",
       "    <tr>\n",
       "      <th>5</th>\n",
       "      <td>Fulvio</td>\n",
       "      <td>21</td>\n",
       "      <td>7</td>\n",
       "      <td>Clod</td>\n",
       "    </tr>\n",
       "    <tr>\n",
       "      <th>...</th>\n",
       "      <td>...</td>\n",
       "      <td>...</td>\n",
       "      <td>...</td>\n",
       "      <td>...</td>\n",
       "    </tr>\n",
       "    <tr>\n",
       "      <th>201</th>\n",
       "      <td>Fulvio</td>\n",
       "      <td>24</td>\n",
       "      <td>19</td>\n",
       "      <td>Clod</td>\n",
       "    </tr>\n",
       "    <tr>\n",
       "      <th>202</th>\n",
       "      <td>Fulvio</td>\n",
       "      <td>21</td>\n",
       "      <td>12</td>\n",
       "      <td>Clod</td>\n",
       "    </tr>\n",
       "    <tr>\n",
       "      <th>203</th>\n",
       "      <td>Fulvio</td>\n",
       "      <td>24</td>\n",
       "      <td>4</td>\n",
       "      <td>Clod</td>\n",
       "    </tr>\n",
       "    <tr>\n",
       "      <th>269</th>\n",
       "      <td>Fulvio</td>\n",
       "      <td>28</td>\n",
       "      <td>11</td>\n",
       "      <td>Clod</td>\n",
       "    </tr>\n",
       "    <tr>\n",
       "      <th>270</th>\n",
       "      <td>Fulvio</td>\n",
       "      <td>25</td>\n",
       "      <td>0</td>\n",
       "      <td>Clod</td>\n",
       "    </tr>\n",
       "  </tbody>\n",
       "</table>\n",
       "<p>171 rows × 4 columns</p>\n",
       "</div>"
      ],
      "text/plain": [
       "    Player1  Pl1-score  Pl2-score Player2\n",
       "ID                                       \n",
       "1    Fulvio         10         21    Clod\n",
       "2    Fulvio          7         23    Clod\n",
       "3    Fulvio         28         19    Clod\n",
       "4    Fulvio         18         22    Clod\n",
       "5    Fulvio         21          7    Clod\n",
       "..      ...        ...        ...     ...\n",
       "201  Fulvio         24         19    Clod\n",
       "202  Fulvio         21         12    Clod\n",
       "203  Fulvio         24          4    Clod\n",
       "269  Fulvio         28         11    Clod\n",
       "270  Fulvio         25          0    Clod\n",
       "\n",
       "[171 rows x 4 columns]"
      ]
     },
     "execution_count": 67,
     "metadata": {},
     "output_type": "execute_result"
    }
   ],
   "source": [
    "show_result('Fulvio',main_df)"
   ]
  },
  {
   "cell_type": "code",
   "execution_count": 68,
   "metadata": {},
   "outputs": [
    {
     "data": {
      "application/vnd.jupyter.widget-view+json": {
       "model_id": "1db02850bcbd44e08b8ed31b21f354fd",
       "version_major": 2,
       "version_minor": 0
      },
      "text/plain": [
       "interactive(children=(Dropdown(description='player', options=('Fulvio', 'Clod', 'Pietro'), value='Fulvio'), Ou…"
      ]
     },
     "metadata": {},
     "output_type": "display_data"
    }
   ],
   "source": [
    "interact(show_win_result, player=['Fulvio','Clod','Pietro'],df=fixed(main_df));"
   ]
  },
  {
   "cell_type": "code",
   "execution_count": null,
   "metadata": {},
   "outputs": [],
   "source": []
  }
 ],
 "metadata": {
  "kernelspec": {
   "display_name": "Python 3",
   "language": "python",
   "name": "python3"
  },
  "language_info": {
   "codemirror_mode": {
    "name": "ipython",
    "version": 3
   },
   "file_extension": ".py",
   "mimetype": "text/x-python",
   "name": "python",
   "nbconvert_exporter": "python",
   "pygments_lexer": "ipython3",
   "version": "3.8.5"
  }
 },
 "nbformat": 4,
 "nbformat_minor": 4
}
